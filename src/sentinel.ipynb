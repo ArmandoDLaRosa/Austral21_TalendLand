{
 "cells": [
  {
   "cell_type": "code",
   "execution_count": 1,
   "metadata": {},
   "outputs": [
    {
     "name": "stderr",
     "output_type": "stream",
     "text": [
      "/home/david/.local/lib/python3.8/site-packages/geopandas/_compat.py:106: UserWarning: The Shapely GEOS version (3.8.0-CAPI-1.13.1 ) is incompatible with the GEOS version PyGEOS was compiled with (3.9.1-CAPI-1.14.2). Conversions between both will be slow.\n",
      "  warnings.warn(\n"
     ]
    }
   ],
   "source": [
    "import folium\n",
    "import geopandas as gpd\n",
    "from sentinelsat.sentinel import SentinelAPI\n",
    "import rasterio \n",
    "import matplotlib.pyplot as plt\n",
    "from rasterio import plot\n",
    "from rasterio.plot import show\n",
    "from rasterio.mask import mask\n",
    "from osgeo import gdal\n",
    "import earthpy as et"
   ]
  },
  {
   "cell_type": "code",
   "execution_count": 15,
   "metadata": {},
   "outputs": [],
   "source": []
  },
  {
   "cell_type": "code",
   "execution_count": 6,
   "metadata": {},
   "outputs": [
    {
     "name": "stdout",
     "output_type": "stream",
     "text": [
      "   id                                           geometry\n",
      "0   1  MULTIPOLYGON (((-103.38683 20.56446, -103.2610...\n"
     ]
    }
   ],
   "source": [
    "roi = gpd.read_file('../data/roi_gdlj.geojson')\n",
    "print(roi.head())"
   ]
  },
  {
   "cell_type": "code",
   "execution_count": 13,
   "metadata": {},
   "outputs": [],
   "source": [
    "footprint = None\n",
    "for i in roi['geometry']:\n",
    "    footprint = i\n",
    "    \n",
    "user = 'davidmacer'\n",
    "password = 'wFwKeDESv@TCuK8'\n",
    "api = SentinelAPI(user, password, 'https://scihub.copernicus.eu/dhus')\n",
    "products = api.query(footprint,\n",
    "                     date = ('20220701', '20220722'),\n",
    "                     platformname = 'Sentinel-2',\n",
    "                     processinglevel = 'Level-2A',\n",
    "                     cloudcoverpercentage = (0, 10))"
   ]
  },
  {
   "cell_type": "code",
   "execution_count": 35,
   "metadata": {},
   "outputs": [
    {
     "name": "stderr",
     "output_type": "stream",
     "text": [
      "/usr/lib/python3/dist-packages/pyproj/crs/crs.py:131: FutureWarning: '+init=<authority>:<code>' syntax is deprecated. '<authority>:<code>' is the preferred initialization method. When making the change, be mindful of axis order changes: https://pyproj4.github.io/pyproj/stable/gotchas.html#axis-order-changes-in-proj-6\n",
      "  in_crs_string = _prepare_from_proj_string(in_crs_string)\n"
     ]
    },
    {
     "data": {
      "text/html": [
       "<div>\n",
       "<style scoped>\n",
       "    .dataframe tbody tr th:only-of-type {\n",
       "        vertical-align: middle;\n",
       "    }\n",
       "\n",
       "    .dataframe tbody tr th {\n",
       "        vertical-align: top;\n",
       "    }\n",
       "\n",
       "    .dataframe thead th {\n",
       "        text-align: right;\n",
       "    }\n",
       "</style>\n",
       "<table border=\"1\" class=\"dataframe\">\n",
       "  <thead>\n",
       "    <tr style=\"text-align: right;\">\n",
       "      <th></th>\n",
       "      <th>title</th>\n",
       "      <th>link</th>\n",
       "      <th>link_alternative</th>\n",
       "      <th>link_icon</th>\n",
       "      <th>summary</th>\n",
       "      <th>ondemand</th>\n",
       "      <th>generationdate</th>\n",
       "      <th>beginposition</th>\n",
       "      <th>endposition</th>\n",
       "      <th>ingestiondate</th>\n",
       "      <th>...</th>\n",
       "      <th>producttype</th>\n",
       "      <th>platformidentifier</th>\n",
       "      <th>orbitdirection</th>\n",
       "      <th>platformserialidentifier</th>\n",
       "      <th>processinglevel</th>\n",
       "      <th>datastripidentifier</th>\n",
       "      <th>granuleidentifier</th>\n",
       "      <th>identifier</th>\n",
       "      <th>uuid</th>\n",
       "      <th>geometry</th>\n",
       "    </tr>\n",
       "  </thead>\n",
       "  <tbody>\n",
       "    <tr>\n",
       "      <th>2f149dec-aa03-49aa-8d7a-9067a586e4d5</th>\n",
       "      <td>S2B_MSIL2A_20220721T171859_N0400_R012_T13QFC_2...</td>\n",
       "      <td>https://scihub.copernicus.eu/dhus/odata/v1/Pro...</td>\n",
       "      <td>https://scihub.copernicus.eu/dhus/odata/v1/Pro...</td>\n",
       "      <td>https://scihub.copernicus.eu/dhus/odata/v1/Pro...</td>\n",
       "      <td>Date: 2022-07-21T17:18:59.024Z, Instrument: MS...</td>\n",
       "      <td>false</td>\n",
       "      <td>2022-07-21 21:54:46</td>\n",
       "      <td>2022-07-21 17:18:59.024</td>\n",
       "      <td>2022-07-21 17:18:59.024</td>\n",
       "      <td>2022-07-22 01:23:50.369</td>\n",
       "      <td>...</td>\n",
       "      <td>S2MSI2A</td>\n",
       "      <td>2017-013A</td>\n",
       "      <td>DESCENDING</td>\n",
       "      <td>Sentinel-2B</td>\n",
       "      <td>Level-2A</td>\n",
       "      <td>S2B_OPER_MSI_L2A_DS_2BPS_20220721T215446_S2022...</td>\n",
       "      <td>S2B_OPER_MSI_L2A_TL_2BPS_20220721T215446_A0280...</td>\n",
       "      <td>S2B_MSIL2A_20220721T171859_N0400_R012_T13QFC_2...</td>\n",
       "      <td>2f149dec-aa03-49aa-8d7a-9067a586e4d5</td>\n",
       "      <td>MULTIPOLYGON (((-102.99722 19.79682, -102.9844...</td>\n",
       "    </tr>\n",
       "  </tbody>\n",
       "</table>\n",
       "<p>1 rows × 41 columns</p>\n",
       "</div>"
      ],
      "text/plain": [
       "                                                                                  title  \\\n",
       "2f149dec-aa03-49aa-8d7a-9067a586e4d5  S2B_MSIL2A_20220721T171859_N0400_R012_T13QFC_2...   \n",
       "\n",
       "                                                                                   link  \\\n",
       "2f149dec-aa03-49aa-8d7a-9067a586e4d5  https://scihub.copernicus.eu/dhus/odata/v1/Pro...   \n",
       "\n",
       "                                                                       link_alternative  \\\n",
       "2f149dec-aa03-49aa-8d7a-9067a586e4d5  https://scihub.copernicus.eu/dhus/odata/v1/Pro...   \n",
       "\n",
       "                                                                              link_icon  \\\n",
       "2f149dec-aa03-49aa-8d7a-9067a586e4d5  https://scihub.copernicus.eu/dhus/odata/v1/Pro...   \n",
       "\n",
       "                                                                                summary  \\\n",
       "2f149dec-aa03-49aa-8d7a-9067a586e4d5  Date: 2022-07-21T17:18:59.024Z, Instrument: MS...   \n",
       "\n",
       "                                     ondemand      generationdate  \\\n",
       "2f149dec-aa03-49aa-8d7a-9067a586e4d5    false 2022-07-21 21:54:46   \n",
       "\n",
       "                                               beginposition  \\\n",
       "2f149dec-aa03-49aa-8d7a-9067a586e4d5 2022-07-21 17:18:59.024   \n",
       "\n",
       "                                                 endposition  \\\n",
       "2f149dec-aa03-49aa-8d7a-9067a586e4d5 2022-07-21 17:18:59.024   \n",
       "\n",
       "                                               ingestiondate  ...  \\\n",
       "2f149dec-aa03-49aa-8d7a-9067a586e4d5 2022-07-22 01:23:50.369  ...   \n",
       "\n",
       "                                      producttype  platformidentifier  \\\n",
       "2f149dec-aa03-49aa-8d7a-9067a586e4d5      S2MSI2A           2017-013A   \n",
       "\n",
       "                                      orbitdirection  \\\n",
       "2f149dec-aa03-49aa-8d7a-9067a586e4d5      DESCENDING   \n",
       "\n",
       "                                      platformserialidentifier  \\\n",
       "2f149dec-aa03-49aa-8d7a-9067a586e4d5               Sentinel-2B   \n",
       "\n",
       "                                      processinglevel  \\\n",
       "2f149dec-aa03-49aa-8d7a-9067a586e4d5         Level-2A   \n",
       "\n",
       "                                                                    datastripidentifier  \\\n",
       "2f149dec-aa03-49aa-8d7a-9067a586e4d5  S2B_OPER_MSI_L2A_DS_2BPS_20220721T215446_S2022...   \n",
       "\n",
       "                                                                      granuleidentifier  \\\n",
       "2f149dec-aa03-49aa-8d7a-9067a586e4d5  S2B_OPER_MSI_L2A_TL_2BPS_20220721T215446_A0280...   \n",
       "\n",
       "                                                                             identifier  \\\n",
       "2f149dec-aa03-49aa-8d7a-9067a586e4d5  S2B_MSIL2A_20220721T171859_N0400_R012_T13QFC_2...   \n",
       "\n",
       "                                                                      uuid  \\\n",
       "2f149dec-aa03-49aa-8d7a-9067a586e4d5  2f149dec-aa03-49aa-8d7a-9067a586e4d5   \n",
       "\n",
       "                                                                               geometry  \n",
       "2f149dec-aa03-49aa-8d7a-9067a586e4d5  MULTIPOLYGON (((-102.99722 19.79682, -102.9844...  \n",
       "\n",
       "[1 rows x 41 columns]"
      ]
     },
     "execution_count": 35,
     "metadata": {},
     "output_type": "execute_result"
    }
   ],
   "source": [
    "gdf = api.to_geodataframe(products)\n",
    "gdf_sorted = gdf.sort_values(['cloudcoverpercentage'], ascending=[True])\n",
    "gdf_sorted"
   ]
  },
  {
   "cell_type": "code",
   "execution_count": 30,
   "metadata": {},
   "outputs": [
    {
     "data": {
      "text/plain": [
       "'2f149dec-aa03-49aa-8d7a-9067a586e4d5'"
      ]
     },
     "execution_count": 30,
     "metadata": {},
     "output_type": "execute_result"
    }
   ],
   "source": [
    "gdf_sorted.iloc[0]['uuid']"
   ]
  },
  {
   "cell_type": "code",
   "execution_count": 31,
   "metadata": {},
   "outputs": [
    {
     "name": "stderr",
     "output_type": "stream",
     "text": [
      "Downloading: 100%|██████████| 1.19G/1.19G [03:01<00:00, 6.54MB/s]\n",
      "MD5 checksumming: 100%|██████████| 1.19G/1.19G [00:18<00:00, 62.8MB/s] \n"
     ]
    },
    {
     "data": {
      "text/plain": [
       "{'id': '2f149dec-aa03-49aa-8d7a-9067a586e4d5',\n",
       " 'title': 'S2B_MSIL2A_20220721T171859_N0400_R012_T13QFC_20220721T215446',\n",
       " 'size': 1187100400,\n",
       " 'md5': 'a5b97f9bf99d5ac9110888005ace6871',\n",
       " 'date': datetime.datetime(2022, 7, 21, 17, 18, 59, 24000),\n",
       " 'footprint': 'POLYGON((-104.03912 20.79755038149346,-102.984436 20.788403082171477,-102.99722 19.796820923140057,-104.04523 19.805495474810392,-104.03912 20.79755038149346))',\n",
       " 'url': \"https://scihub.copernicus.eu/dhus/odata/v1/Products('2f149dec-aa03-49aa-8d7a-9067a586e4d5')/$value\",\n",
       " 'Online': True,\n",
       " 'Creation Date': datetime.datetime(2022, 7, 22, 1, 24, 25, 126000),\n",
       " 'Ingestion Date': datetime.datetime(2022, 7, 22, 1, 23, 50, 369000),\n",
       " 'path': './S2B_MSIL2A_20220721T171859_N0400_R012_T13QFC_20220721T215446.zip',\n",
       " 'downloaded_bytes': 1187100400}"
      ]
     },
     "execution_count": 31,
     "metadata": {},
     "output_type": "execute_result"
    }
   ],
   "source": [
    "api.download(gdf_sorted.iloc[0]['uuid'])"
   ]
  },
  {
   "cell_type": "code",
   "execution_count": null,
   "metadata": {},
   "outputs": [],
   "source": [
    "# Código para descomprimir\n",
    "from zipfile import ZipFile\n",
    "\n",
    "with ZipFile('S2B_MSIL2A_20220721T171859_N0400_R012_T13QFC_20220721T215446.zip', 'r') as zipObj:\n",
    "   # Extract all the contents of zip file in current directory\n",
    "   zipObj.extractall()"
   ]
  },
  {
   "cell_type": "code",
   "execution_count": 2,
   "metadata": {},
   "outputs": [],
   "source": [
    "bands = r'./S2B_MSIL2A_20220721T171859_N0400_R012_T13QFC_20220721T215446.SAFE/GRANULE/L2A_T13QFC_A028066_20220721T173238/IMG_DATA/R10m'"
   ]
  },
  {
   "cell_type": "code",
   "execution_count": 3,
   "metadata": {},
   "outputs": [
    {
     "data": {
      "text/plain": [
       "['T13QFC_20220721T171859_TCI_10m.jp2',\n",
       " 'T13QFC_20220721T171859_WVP_10m.jp2',\n",
       " 'T13QFC_20220721T171859_AOT_10m.jp2',\n",
       " 'T13QFC_20220721T171859_B02_10m.jp2',\n",
       " 'T13QFC_20220721T171859_B03_10m.jp2',\n",
       " 'T13QFC_20220721T171859_B08_10m.jp2',\n",
       " 'T13QFC_20220721T171859_B04_10m.jp2']"
      ]
     },
     "execution_count": 3,
     "metadata": {},
     "output_type": "execute_result"
    }
   ],
   "source": [
    "os.listdir(bands)"
   ]
  },
  {
   "cell_type": "code",
   "execution_count": 4,
   "metadata": {},
   "outputs": [],
   "source": [
    "blue = rasterio.open(bands+'/T13QFC_20220721T171859_B02_10m.jp2') \n",
    "green = rasterio.open(bands+'/T13QFC_20220721T171859_B03_10m.jp2') \n",
    "red = rasterio.open(bands+'/T13QFC_20220721T171859_B04_10m.jp2')\n",
    "nir = rasterio.open(bands+'/T13QFC_20220721T171859_B08_10m.jp2')"
   ]
  },
  {
   "cell_type": "code",
   "execution_count": 32,
   "metadata": {},
   "outputs": [],
   "source": [
    "avi = (nir.read(1)*(1-red.read(1))*(nir.read(1)-red.read(1)))\n",
    "savi = (nir.read(1)-red.read(1))/(nir.read(1)+red.read(1))\n",
    "ndvi = (nir.read(1)-red.read(1))/(nir.read(1)+red.read(1))"
   ]
  },
  {
   "cell_type": "code",
   "execution_count": 9,
   "metadata": {},
   "outputs": [
    {
     "data": {
      "text/plain": [
       "<matplotlib.image.AxesImage at 0x7f7b86c175b0>"
      ]
     },
     "execution_count": 9,
     "metadata": {},
     "output_type": "execute_result"
    },
    {
     "data": {
      "image/png": "[encoded data removed]",
      "text/plain": [
       "<Figure size 432x288 with 1 Axes>"
      ]
     },
     "metadata": {
      "needs_background": "light"
     },
     "output_type": "display_data"
    }
   ],
   "source": [
    "plt.imshow(savi, cmap='pink')"
   ]
  },
  {
   "cell_type": "code",
   "execution_count": 31,
   "metadata": {},
   "outputs": [
    {
     "data": {
      "text/plain": [
       "array([[1., 0., 0., ..., 0., 0., 0.],\n",
       "       [0., 0., 0., ..., 0., 0., 0.],\n",
       "       [0., 0., 0., ..., 0., 0., 0.],\n",
       "       ...,\n",
       "       [0., 0., 0., ..., 1., 1., 1.],\n",
       "       [0., 0., 0., ..., 1., 1., 1.],\n",
       "       [0., 0., 0., ..., 0., 0., 0.]])"
      ]
     },
     "execution_count": 31,
     "metadata": {},
     "output_type": "execute_result"
    }
   ],
   "source": [
    "savi"
   ]
  },
  {
   "cell_type": "code",
   "execution_count": 25,
   "metadata": {},
   "outputs": [],
   "source": [
    "savi_filtrado = savi\n",
    "savi_filtrado[savi_filtrado >= 0.5] = 1\n",
    "savi_filtrado[savi_filtrado < 0.5] = 0"
   ]
  },
  {
   "cell_type": "code",
   "execution_count": 26,
   "metadata": {},
   "outputs": [
    {
     "data": {
      "text/plain": [
       "array([[1., 0., 0., ..., 0., 0., 0.],\n",
       "       [0., 0., 0., ..., 0., 0., 0.],\n",
       "       [0., 0., 0., ..., 0., 0., 0.],\n",
       "       ...,\n",
       "       [0., 0., 0., ..., 1., 1., 1.],\n",
       "       [0., 0., 0., ..., 1., 1., 1.],\n",
       "       [0., 0., 0., ..., 0., 0., 0.]])"
      ]
     },
     "execution_count": 26,
     "metadata": {},
     "output_type": "execute_result"
    }
   ],
   "source": [
    "savi_filtrado"
   ]
  },
  {
   "cell_type": "code",
   "execution_count": 1,
   "metadata": {},
   "outputs": [],
   "source": [
    "def array_to_raster(raster_array, raster_orig, path_to_save = \"./output.tif\"):\n",
    "  import numpy as np\n",
    "  import rasterio\n",
    "  from rasterio.crs import CRS\n",
    "  from rasterio.transform import from_origin\n",
    "\n",
    "  # Add One Dimension(dst.write needs three dimentions)\n",
    "  raster_array = np.array([raster_array])\n",
    "\n",
    "  # Get Some Parameters\n",
    "  dim = raster_array.shape\n",
    "  height = dim[1]\n",
    "  width = dim[2]\n",
    "  dtype = raster_array.dtype\n",
    "\n",
    "  # Get EPSG code\n",
    "  epsg = raster_orig.crs.to_epsg()\n",
    "  crs = CRS.from_epsg(epsg)\n",
    "\n",
    "  # Get Sizes\n",
    "  t = raster_orig.transform\n",
    "  x_size = t[0]\n",
    "  y_size = -t[4]\n",
    "\n",
    "  # Get Upper Left Coordinates\n",
    "  x_westup, y_westup = blue.xy(0,0)\n",
    "\n",
    "  # Affine Transformation\n",
    "  transform = from_origin(west = x_westup, north = y_westup, xsize = x_size, ysize = y_size)\n",
    "\n",
    "  # Save Raster\n",
    "  with rasterio.open(path_to_save, \"w\",\n",
    "                   driver = \"GTiff\",\n",
    "                   height = height,\n",
    "                   width = width,\n",
    "                   count = 1,\n",
    "                   dtype = dtype,\n",
    "                   crs = crs,\n",
    "                   trasnform = transform) as dst:\n",
    "    dst.write(raster_array)\n",
    "  \n",
    "  # Load Raster\n",
    "  raster_loaded = rasterio.open(\"./output.tif\")\n",
    "  \n",
    "  return raster_loaded"
   ]
  },
  {
   "cell_type": "code",
   "execution_count": null,
   "metadata": {},
   "outputs": [],
   "source": [
    "savi_raster = array_to_raster(raster_array = savi, raster_orig = blue)"
   ]
  },
  {
   "cell_type": "markdown",
   "metadata": {},
   "source": [
    "## Recorte de bosques urbanos\n",
    "Vamos a recortar las zonas dentro de los bosques urbanos usando sus polígonos"
   ]
  },
  {
   "cell_type": "code",
   "execution_count": 13,
   "metadata": {},
   "outputs": [],
   "source": [
    "bosques = gpd.read_file('../data/bosques_urbanos_jalisco.geojson')"
   ]
  },
  {
   "cell_type": "code",
   "execution_count": 30,
   "metadata": {},
   "outputs": [
    {
     "ename": "TypeError",
     "evalue": "mask() got an unexpected keyword argument 'raster'",
     "output_type": "error",
     "traceback": [
      "\u001b[0;31m---------------------------------------------------------------------------\u001b[0m",
      "\u001b[0;31mTypeError\u001b[0m                                 Traceback (most recent call last)",
      "\u001b[0;32m<ipython-input-30-8cb66d30018a>\u001b[0m in \u001b[0;36m<module>\u001b[0;34m\u001b[0m\n\u001b[0;32m----> 1\u001b[0;31m \u001b[0mout_img\u001b[0m\u001b[0;34m,\u001b[0m \u001b[0mout_transform\u001b[0m \u001b[0;34m=\u001b[0m \u001b[0mmask\u001b[0m\u001b[0;34m(\u001b[0m\u001b[0mraster\u001b[0m\u001b[0;34m=\u001b[0m\u001b[0msavi\u001b[0m\u001b[0;34m,\u001b[0m \u001b[0mshapes\u001b[0m\u001b[0;34m=\u001b[0m\u001b[0mbosques\u001b[0m\u001b[0;34m,\u001b[0m \u001b[0mcrop\u001b[0m\u001b[0;34m=\u001b[0m\u001b[0;32mTrue\u001b[0m\u001b[0;34m)\u001b[0m\u001b[0;34m\u001b[0m\u001b[0;34m\u001b[0m\u001b[0m\n\u001b[0m",
      "\u001b[0;31mTypeError\u001b[0m: mask() got an unexpected keyword argument 'raster'"
     ]
    }
   ],
   "source": [
    "out_img, out_transform = mask(raster=savi, shapes=bosques, crop=True)"
   ]
  },
  {
   "cell_type": "code",
   "execution_count": null,
   "metadata": {},
   "outputs": [],
   "source": []
  }
 ],
 "metadata": {
  "kernelspec": {
   "display_name": "Python 3 (ipykernel)",
   "language": "python",
   "name": "python3"
  },
  "language_info": {
   "codemirror_mode": {
    "name": "ipython",
    "version": 3
   },
   "file_extension": ".py",
   "mimetype": "text/x-python",
   "name": "python",
   "nbconvert_exporter": "python",
   "pygments_lexer": "ipython3",
   "version": "3.10.0"
  },
  "vscode": {
   "interpreter": {
    "hash": "916dbcbb3f70747c44a77c7bcd40155683ae19c65e1c03b4aa3499c5328201f1"
   }
  }
 },
 "nbformat": 4,
 "nbformat_minor": 4
}
